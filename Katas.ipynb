{
 "cells": [
  {
   "cell_type": "markdown",
   "metadata": {},
   "source": [
    "# Kata 1\n"
   ]
  },
  {
   "cell_type": "code",
   "execution_count": 39,
   "metadata": {},
   "outputs": [
    {
     "name": "stdout",
     "output_type": "stream",
     "text": [
      "Today's date is: 2022-02-09\n"
     ]
    }
   ],
   "source": [
    "from datetime import date\n",
    "\n",
    "print(\"Today's date is: \"+ str(date.today()))"
   ]
  },
  {
   "cell_type": "markdown",
   "metadata": {},
   "source": [
    "### Conversor de unidades"
   ]
  },
  {
   "cell_type": "code",
   "execution_count": 40,
   "metadata": {},
   "outputs": [
    {
     "name": "stdout",
     "output_type": "stream",
     "text": [
      "11 parsec, is 35.877159999999996 lightyears\n"
     ]
    }
   ],
   "source": [
    "parsec = 11\n",
    "\n",
    "lightyears = parsec * 3.26156\n",
    "\n",
    "print(str(parsec) + \" parsec, is \" + str(lightyears) + \" lightyears\")"
   ]
  },
  {
   "cell_type": "markdown",
   "metadata": {},
   "source": [
    "# Kata 2\n",
    "### Se pasará por screen shots"
   ]
  },
  {
   "cell_type": "markdown",
   "metadata": {},
   "source": [
    "# Kata 3"
   ]
  },
  {
   "cell_type": "markdown",
   "metadata": {},
   "source": [
    "### Ejercicio 1"
   ]
  },
  {
   "cell_type": "code",
   "execution_count": 41,
   "metadata": {},
   "outputs": [
    {
     "name": "stdout",
     "output_type": "stream",
     "text": [
      "¡Advertencia! Peligro de impacto\n"
     ]
    }
   ],
   "source": [
    "velocidadAsteroide = 49\n",
    "if velocidadAsteroide > 25:\n",
    "    print (\"¡Advertencia! Peligro de impacto\")\n",
    "else:\n",
    "    print (\"Perimetro asegurado\")"
   ]
  },
  {
   "cell_type": "markdown",
   "metadata": {},
   "source": [
    "### Ejercicio 2"
   ]
  },
  {
   "cell_type": "code",
   "execution_count": 42,
   "metadata": {},
   "outputs": [
    {
     "name": "stdout",
     "output_type": "stream",
     "text": [
      "No existe problema alguno\n"
     ]
    }
   ],
   "source": [
    "velocidadAsteroide = 19\n",
    "if velocidadAsteroide > 20:\n",
    "    print (\"¡Advertencia! Peligro de impacto\")\n",
    "elif velocidadAsteroide == 20:\n",
    "    print (\"Favor de buscar una luz en el cielo\")\n",
    "else:\n",
    "    print (\"No existe problema alguno\")"
   ]
  },
  {
   "cell_type": "markdown",
   "metadata": {},
   "source": [
    "### Ejercicio 3"
   ]
  },
  {
   "cell_type": "code",
   "execution_count": 43,
   "metadata": {},
   "outputs": [
    {
     "name": "stdout",
     "output_type": "stream",
     "text": [
      "Favor de buscar una luz en el cielo\n"
     ]
    }
   ],
   "source": [
    "velocidadAsteroide = 20\n",
    "tamañoAsteroide = 24\n",
    "if velocidadAsteroide > 20 or (tamañoAsteroide < 1000 and tamañoAsteroide >= 25):\n",
    "    print (\"¡Advertencia! Peligro de impacto\")\n",
    "elif velocidadAsteroide == 20 and tamañoAsteroide < 25:\n",
    "    print (\"Favor de buscar una luz en el cielo\")\n",
    "else:\n",
    "    print (\"No existe problema alguno\")"
   ]
  },
  {
   "cell_type": "markdown",
   "metadata": {},
   "source": [
    "# Kata 4"
   ]
  },
  {
   "cell_type": "markdown",
   "metadata": {},
   "source": [
    "### Ejercicio 1"
   ]
  },
  {
   "cell_type": "code",
   "execution_count": 31,
   "metadata": {},
   "outputs": [
    {
     "name": "stdout",
     "output_type": "stream",
     "text": [
      "['Interesting facts about the Moon', \" The Moon is Earth's only satellite\", ' There are several interesting facts about the Moon and how it affects life here on Earth', ' \\nOn average, the Moon moves 4cm away from the Earth every year', ' This yearly drift is not significant enough to cause immediate effects on Earth', ' The highest daylight temperature of the Moon is 127 C', '']\n",
      "\n",
      " \n",
      "On average, the Moon moves 4cm away from the Earth every year\n",
      " The highest daylight temperature of the Moon is 127 C\n",
      "\n",
      "Interesting facts about the Moon. The Moon is Earth's only satellite. There are several interesting facts about the Moon and how it affects life here on Earth. \n",
      "On average, the Moon moves 4cm away from the Earth every year. This yearly drift is not significant enough to cause immediate effects on Earth. The highest daylight temperature of the Moon is 127 Celsius.\n"
     ]
    }
   ],
   "source": [
    "text = \"\"\"Interesting facts about the Moon. The Moon is Earth's only satellite. There are several interesting facts about the Moon and how it affects life here on Earth. \n",
    "On average, the Moon moves 4cm away from the Earth every year. This yearly drift is not significant enough to cause immediate effects on Earth. The highest daylight temperature of the Moon is 127 C.\"\"\"\n",
    "\n",
    "dividirTexto = text.split('.')\n",
    "print (dividirTexto)\n",
    "print(\"\")\n",
    "\n",
    "palabrasClave = ['average', 'temperature', 'distance']\n",
    "\n",
    "for frase in dividirTexto:\n",
    "    for palabra in palabrasClave:\n",
    "        if palabra in frase:\n",
    "            print(frase)\n",
    "print(\"\")\n",
    "\n",
    "for grados in dividirTexto:\n",
    "    for palabra in palabrasClave:\n",
    "        if palabra in grados:\n",
    "            print(grados.replace('C', 'Celsius'))\n",
    "\n",
    "#print(text.replace('C', 'Celsius'))\n",
    "\n",
    "#for sentence in dividirTexto:\n",
    "    #print(sentence.replace('C', 'Celsius'))\n"
   ]
  },
  {
   "cell_type": "code",
   "execution_count": 2,
   "metadata": {},
   "outputs": [
    {
     "name": "stdout",
     "output_type": "stream",
     "text": [
      "Gravity Facts About Ganímedes \n",
      "--------------------------------------------------\n",
      "Planet = Marte \n",
      "Gravity on Ganímedes = 1.4300000000000002km/s2\n"
     ]
    }
   ],
   "source": [
    "name = \"Ganímedes\"\n",
    "gravity = 0.00143\n",
    "planet = \"Marte \"\n",
    "\n",
    "title = f'Gravity facts about {name}'\n",
    "\n",
    "template = (f\"\"\"{title.title()} \n",
    "{'-' *50}\n",
    "Planet = {planet}\n",
    "Gravity on {name} = {gravity*1000}km/s2\"\"\")\n",
    "\n",
    "print(template)\n",
    "\n",
    "\n"
   ]
  },
  {
   "cell_type": "code",
   "execution_count": 1,
   "metadata": {},
   "outputs": [
    {
     "name": "stdout",
     "output_type": "stream",
     "text": [
      "1.6199999999999999\n"
     ]
    }
   ],
   "source": []
  }
 ],
 "metadata": {
  "interpreter": {
   "hash": "b3ba2566441a7c06988d0923437866b63cedc61552a5af99d1f4fb67d367b25f"
  },
  "kernelspec": {
   "display_name": "Python 3.8.8 64-bit ('base': conda)",
   "language": "python",
   "name": "python3"
  },
  "language_info": {
   "codemirror_mode": {
    "name": "ipython",
    "version": 3
   },
   "file_extension": ".py",
   "mimetype": "text/x-python",
   "name": "python",
   "nbconvert_exporter": "python",
   "pygments_lexer": "ipython3",
   "version": "3.8.8"
  },
  "orig_nbformat": 4
 },
 "nbformat": 4,
 "nbformat_minor": 2
}
